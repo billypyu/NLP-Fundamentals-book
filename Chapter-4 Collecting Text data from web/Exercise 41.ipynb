{
 "cells": [
  {
   "cell_type": "code",
   "execution_count": 3,
   "metadata": {},
   "outputs": [],
   "source": [
    "import requests"
   ]
  },
  {
   "cell_type": "code",
   "execution_count": 7,
   "metadata": {},
   "outputs": [],
   "source": [
    "r = requests.post('https://www.gutenberg.org/files/766/766-0.txt')\n",
    "# this was taking eternaity to run"
   ]
  },
  {
   "cell_type": "code",
   "execution_count": 5,
   "metadata": {},
   "outputs": [],
   "source": [
    "import urllib3 # this one worked"
   ]
  },
  {
   "cell_type": "code",
   "execution_count": 6,
   "metadata": {},
   "outputs": [
    {
     "data": {
      "text/plain": [
       "200"
      ]
     },
     "execution_count": 6,
     "metadata": {},
     "output_type": "execute_result"
    }
   ],
   "source": [
    "import urllib3\n",
    "http = urllib3.PoolManager()\n",
    "rr = http.request('GET', 'https://www.gutenberg.org/files/766/766-0.txt')\n",
    "rr.status"
   ]
  },
  {
   "cell_type": "code",
   "execution_count": 9,
   "metadata": {},
   "outputs": [
    {
     "data": {
      "text/plain": [
       "b'\\xef\\xbb\\xbfThe Project Gutenberg EBook of David Copperfield, by Charles Dickens\\r\\n\\r\\nThis eBook is for the use of anyone anywhere at no cost and with\\r\\nalmost no restrictions whatsoever.  You may copy it, give it away or\\r\\nre-use it under the terms of the Project Gutenberg License included\\r\\nwith this eBook or online at www.gutenberg.org\\r\\n\\r\\n\\r\\nTitle: David Copperfield\\r\\n\\r\\nAuthor: Charles Dickens\\r\\n\\r\\nRelease Date: December, 1996  [Etext #766]\\r\\nPosting Date: November 24, 2009\\r\\nLast Updated: September 25, 2016\\r\\n\\r\\nLanguage: English\\r\\n\\r\\nCharacter set encoding: UTF-8\\r\\n\\r\\n*** START OF THIS PROJECT GUTENBERG EBOOK DAVID COPPERFIELD ***\\r\\n\\r\\n\\r\\n\\r\\n\\r\\nProduced by Jo Churcher\\r\\n\\r\\n\\r\\n\\r\\n\\r\\n\\r\\nDAVID COPPERFIELD\\r\\n\\r\\n\\r\\nBy Charles Dickens\\r\\n\\r\\n\\r\\n\\r\\n               AFFECTIONATELY INSCRIBED TO\\r\\n               THE HON.  Mr. AND Mrs. RICHARD WATSON,\\r\\n               OF ROCKINGHAM, NORTHAMPTONSHIRE.\\r\\n\\r\\n\\r\\nCONTENTS\\r\\n\\r\\n\\r\\n     I.      I Am Born\\r\\n     II.     I Observe\\r\\n     III.    I Have a Change\\r\\n     IV.     I Fall into Disgrace\\r\\n     V.   '"
      ]
     },
     "execution_count": 9,
     "metadata": {},
     "output_type": "execute_result"
    }
   ],
   "source": [
    "rr.data[:1000]"
   ]
  },
  {
   "cell_type": "code",
   "execution_count": 10,
   "metadata": {},
   "outputs": [
    {
     "data": {
      "text/plain": [
       "2033139"
      ]
     },
     "execution_count": 10,
     "metadata": {},
     "output_type": "execute_result"
    }
   ],
   "source": [
    "open(\"data/David_Copperfield_new.txt\", 'wb').write(rr.data)"
   ]
  },
  {
   "cell_type": "code",
   "execution_count": null,
   "metadata": {},
   "outputs": [],
   "source": []
  }
 ],
 "metadata": {
  "kernelspec": {
   "display_name": "Python 3",
   "language": "python",
   "name": "python3"
  }
 },
 "nbformat": 4,
 "nbformat_minor": 4
}
