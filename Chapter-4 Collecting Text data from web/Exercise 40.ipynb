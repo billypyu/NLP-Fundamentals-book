{
 "cells": [
  {
   "cell_type": "code",
   "execution_count": 2,
   "metadata": {},
   "outputs": [],
   "source": [
    "from bs4 import BeautifulSoup"
   ]
  },
  {
   "cell_type": "code",
   "execution_count": 3,
   "metadata": {},
   "outputs": [],
   "source": [
    "soup = BeautifulSoup(open('data/sample_doc.html'),'html.parser')"
   ]
  },
  {
   "cell_type": "code",
   "execution_count": 7,
   "metadata": {},
   "outputs": [
    {
     "data": {
      "text/plain": [
       "'\\n\\n\\n A sample HTML Page \\n\\n\\nI am staying at  Mess on No. 72, Banamali Naskar Lane, Kolkata. \\nSherlock  stays at 221B, Baker Street, London, UK. \\nHamlet said to Horatio,   There are more things in heaven and earth, Horatio,  Than are dreamt of in your philosophy. \\n A table denoting details of students\\n\\n\\nname\\nqualification\\nadditional qualification\\nother qualification\\n\\n\\nGangaram\\nB.Tech\\nNA\\nNA\\n\\n\\nGanga\\nB.A.\\nNA\\nNA\\n\\n\\nRam\\nB.Tech\\nM.Tech\\nNA\\n\\n\\nRamlal\\nB.Music\\nNA\\nDiploma in Music\\n\\n\\n\\n'"
      ]
     },
     "execution_count": 7,
     "metadata": {},
     "output_type": "execute_result"
    }
   ],
   "source": [
    "soup.text"
   ]
  },
  {
   "cell_type": "code",
   "execution_count": 8,
   "metadata": {},
   "outputs": [
    {
     "data": {
      "text/plain": [
       "<!DOCTYPE html>\n",
       "\n",
       "<html>\n",
       "<head>\n",
       "<title> A sample HTML Page </title>\n",
       "</head>\n",
       "<body>\n",
       "I am staying at <address> Mess on No. 72, Banamali Naskar Lane, Kolkata.</address> <br/>\n",
       "<b>Sherlock </b> stays at <address>221B, Baker Street, London, UK.</address> <br/>\n",
       "<b>Hamlet</b> said to <b>Horatio</b>, <br/> <q> There are more things in heaven and earth, Horatio, <br/> Than are dreamt of in your philosophy. </q>\n",
       "<h1> A table denoting details of students</h1>\n",
       "<table>\n",
       "<tr>\n",
       "<th>name</th>\n",
       "<th>qualification</th>\n",
       "<th>additional qualification</th>\n",
       "<th>other qualification</th>\n",
       "</tr>\n",
       "<tr>\n",
       "<td>Gangaram</td>\n",
       "<td>B.Tech</td>\n",
       "<td>NA</td>\n",
       "<td>NA</td>\n",
       "</tr>\n",
       "<tr>\n",
       "<td>Ganga</td>\n",
       "<td>B.A.</td>\n",
       "<td>NA</td>\n",
       "<td>NA</td>\n",
       "</tr>\n",
       "<tr>\n",
       "<td>Ram</td>\n",
       "<td>B.Tech</td>\n",
       "<td>M.Tech</td>\n",
       "<td>NA</td>\n",
       "</tr>\n",
       "<tr>\n",
       "<td>Ramlal</td>\n",
       "<td>B.Music</td>\n",
       "<td>NA</td>\n",
       "<td>Diploma in Music</td>\n",
       "</tr>\n",
       "</table>\n",
       "</body>\n",
       "</html>"
      ]
     },
     "execution_count": 8,
     "metadata": {},
     "output_type": "execute_result"
    }
   ],
   "source": [
    "soup"
   ]
  },
  {
   "cell_type": "code",
   "execution_count": 10,
   "metadata": {},
   "outputs": [
    {
     "data": {
      "text/plain": [
       "['html',\n",
       " '\\n',\n",
       " <html>\n",
       " <head>\n",
       " <title> A sample HTML Page </title>\n",
       " </head>\n",
       " <body>\n",
       " I am staying at <address> Mess on No. 72, Banamali Naskar Lane, Kolkata.</address> <br/>\n",
       " <b>Sherlock </b> stays at <address>221B, Baker Street, London, UK.</address> <br/>\n",
       " <b>Hamlet</b> said to <b>Horatio</b>, <br/> <q> There are more things in heaven and earth, Horatio, <br/> Than are dreamt of in your philosophy. </q>\n",
       " <h1> A table denoting details of students</h1>\n",
       " <table>\n",
       " <tr>\n",
       " <th>name</th>\n",
       " <th>qualification</th>\n",
       " <th>additional qualification</th>\n",
       " <th>other qualification</th>\n",
       " </tr>\n",
       " <tr>\n",
       " <td>Gangaram</td>\n",
       " <td>B.Tech</td>\n",
       " <td>NA</td>\n",
       " <td>NA</td>\n",
       " </tr>\n",
       " <tr>\n",
       " <td>Ganga</td>\n",
       " <td>B.A.</td>\n",
       " <td>NA</td>\n",
       " <td>NA</td>\n",
       " </tr>\n",
       " <tr>\n",
       " <td>Ram</td>\n",
       " <td>B.Tech</td>\n",
       " <td>M.Tech</td>\n",
       " <td>NA</td>\n",
       " </tr>\n",
       " <tr>\n",
       " <td>Ramlal</td>\n",
       " <td>B.Music</td>\n",
       " <td>NA</td>\n",
       " <td>Diploma in Music</td>\n",
       " </tr>\n",
       " </table>\n",
       " </body>\n",
       " </html>]"
      ]
     },
     "execution_count": 10,
     "metadata": {},
     "output_type": "execute_result"
    }
   ],
   "source": [
    "soup.contents"
   ]
  },
  {
   "cell_type": "markdown",
   "metadata": {},
   "source": [
    "# Look for address tag "
   ]
  },
  {
   "cell_type": "code",
   "execution_count": 11,
   "metadata": {},
   "outputs": [
    {
     "data": {
      "text/plain": [
       "<address> Mess on No. 72, Banamali Naskar Lane, Kolkata.</address>"
      ]
     },
     "execution_count": 11,
     "metadata": {},
     "output_type": "execute_result"
    }
   ],
   "source": [
    "soup.find('address')"
   ]
  },
  {
   "cell_type": "code",
   "execution_count": 12,
   "metadata": {},
   "outputs": [
    {
     "data": {
      "text/plain": [
       "[<address> Mess on No. 72, Banamali Naskar Lane, Kolkata.</address>,\n",
       " <address>221B, Baker Street, London, UK.</address>]"
      ]
     },
     "execution_count": 12,
     "metadata": {},
     "output_type": "execute_result"
    }
   ],
   "source": [
    "soup.find_all('address')"
   ]
  },
  {
   "cell_type": "markdown",
   "metadata": {},
   "source": [
    "# Look for q tag "
   ]
  },
  {
   "cell_type": "code",
   "execution_count": 13,
   "metadata": {},
   "outputs": [
    {
     "data": {
      "text/plain": [
       "[<q> There are more things in heaven and earth, Horatio, <br/> Than are dreamt of in your philosophy. </q>]"
      ]
     },
     "execution_count": 13,
     "metadata": {},
     "output_type": "execute_result"
    }
   ],
   "source": [
    "soup.find_all('q')"
   ]
  },
  {
   "cell_type": "markdown",
   "metadata": {},
   "source": [
    "# Look for b tag "
   ]
  },
  {
   "cell_type": "code",
   "execution_count": 14,
   "metadata": {},
   "outputs": [
    {
     "data": {
      "text/plain": [
       "[<b>Sherlock </b>, <b>Hamlet</b>, <b>Horatio</b>]"
      ]
     },
     "execution_count": 14,
     "metadata": {},
     "output_type": "execute_result"
    }
   ],
   "source": [
    "soup.find_all('b')"
   ]
  },
  {
   "cell_type": "markdown",
   "metadata": {},
   "source": [
    "# Look for table tag "
   ]
  },
  {
   "cell_type": "code",
   "execution_count": 15,
   "metadata": {},
   "outputs": [
    {
     "data": {
      "text/plain": [
       "[<table>\n",
       " <tr>\n",
       " <th>name</th>\n",
       " <th>qualification</th>\n",
       " <th>additional qualification</th>\n",
       " <th>other qualification</th>\n",
       " </tr>\n",
       " <tr>\n",
       " <td>Gangaram</td>\n",
       " <td>B.Tech</td>\n",
       " <td>NA</td>\n",
       " <td>NA</td>\n",
       " </tr>\n",
       " <tr>\n",
       " <td>Ganga</td>\n",
       " <td>B.A.</td>\n",
       " <td>NA</td>\n",
       " <td>NA</td>\n",
       " </tr>\n",
       " <tr>\n",
       " <td>Ram</td>\n",
       " <td>B.Tech</td>\n",
       " <td>M.Tech</td>\n",
       " <td>NA</td>\n",
       " </tr>\n",
       " <tr>\n",
       " <td>Ramlal</td>\n",
       " <td>B.Music</td>\n",
       " <td>NA</td>\n",
       " <td>Diploma in Music</td>\n",
       " </tr>\n",
       " </table>]"
      ]
     },
     "execution_count": 15,
     "metadata": {},
     "output_type": "execute_result"
    }
   ],
   "source": [
    "soup.find_all('table')"
   ]
  },
  {
   "cell_type": "markdown",
   "metadata": {},
   "source": [
    "## Iterate through table"
   ]
  },
  {
   "cell_type": "code",
   "execution_count": 23,
   "metadata": {},
   "outputs": [
    {
     "name": "stdout",
     "output_type": "stream",
     "text": [
      "[]\n",
      "\n",
      "[<td>Gangaram</td>, <td>B.Tech</td>, <td>NA</td>, <td>NA</td>]\n",
      "\n",
      "[<td>Ganga</td>, <td>B.A.</td>, <td>NA</td>, <td>NA</td>]\n",
      "\n",
      "[<td>Ram</td>, <td>B.Tech</td>, <td>M.Tech</td>, <td>NA</td>]\n",
      "\n",
      "[<td>Ramlal</td>, <td>B.Music</td>, <td>NA</td>, <td>Diploma in Music</td>]\n",
      "\n"
     ]
    }
   ],
   "source": [
    "for row in soup.find('table').find_all('tr'):\n",
    "    col = row.find_all('td')\n",
    "    print(col)\n",
    "    print('')"
   ]
  },
  {
   "cell_type": "code",
   "execution_count": null,
   "metadata": {},
   "outputs": [],
   "source": []
  }
 ],
 "metadata": {
  "kernelspec": {
   "display_name": "Python 3",
   "language": "python",
   "name": "python3"
  },
  "language_info": {
   "codemirror_mode": {
    "name": "ipython",
    "version": 3
   },
   "file_extension": ".py",
   "mimetype": "text/x-python",
   "name": "python",
   "nbconvert_exporter": "python",
   "pygments_lexer": "ipython3",
   "version": "3.8.3"
  }
 },
 "nbformat": 4,
 "nbformat_minor": 4
}
