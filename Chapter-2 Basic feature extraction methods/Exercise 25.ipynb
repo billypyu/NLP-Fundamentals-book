{
 "cells": [
  {
   "cell_type": "code",
   "execution_count": 2,
   "metadata": {},
   "outputs": [
    {
     "name": "stderr",
     "output_type": "stream",
     "text": [
      "<frozen importlib._bootstrap>:219: RuntimeWarning: numpy.ufunc size changed, may indicate binary incompatibility. Expected 192 from C header, got 216 from PyObject\n"
     ]
    }
   ],
   "source": [
    "import pandas as pd\n",
    "from sklearn.feature_extraction.text import TfidfVectorizer"
   ]
  },
  {
   "cell_type": "code",
   "execution_count": 3,
   "metadata": {},
   "outputs": [],
   "source": [
    "corpus = [\n",
    "'Data Science is an overlap between Arts and Science',\n",
    "'Generally, Arts graduates are right-brained and Science graduates are left-brained',\n",
    "'Excelling in both Arts and Science at a time becomes difficult',\n",
    "'Natural Language Processing is a part of Data Science'\n",
    "]"
   ]
  },
  {
   "cell_type": "code",
   "execution_count": 4,
   "metadata": {},
   "outputs": [
    {
     "name": "stdout",
     "output_type": "stream",
     "text": [
      "Data Science is an overlap between Arts and Science\n",
      "Generally, Arts graduates are right-brained and Science graduates are left-brained\n",
      "Excelling in both Arts and Science at a time becomes difficult\n",
      "Natural Language Processing is a part of Data Science\n"
     ]
    }
   ],
   "source": [
    "for l in corpus:\n",
    "    print(l)"
   ]
  },
  {
   "cell_type": "code",
   "execution_count": 7,
   "metadata": {},
   "outputs": [
    {
     "name": "stdout",
     "output_type": "stream",
     "text": [
      "(4, 26)\n"
     ]
    }
   ],
   "source": [
    "tfidf = TfidfVectorizer()\n",
    "tfidf_matrix = tfidf.fit_transform(corpus).todense()\n",
    "print(tfidf_matrix.shape) # a numpy array"
   ]
  },
  {
   "cell_type": "code",
   "execution_count": 14,
   "metadata": {},
   "outputs": [
    {
     "data": {
      "text/html": [
       "<div>\n",
       "<style scoped>\n",
       "    .dataframe tbody tr th:only-of-type {\n",
       "        vertical-align: middle;\n",
       "    }\n",
       "\n",
       "    .dataframe tbody tr th {\n",
       "        vertical-align: top;\n",
       "    }\n",
       "\n",
       "    .dataframe thead th {\n",
       "        text-align: right;\n",
       "    }\n",
       "</style>\n",
       "<table border=\"1\" class=\"dataframe\">\n",
       "  <thead>\n",
       "    <tr style=\"text-align: right;\">\n",
       "      <th></th>\n",
       "      <th>an</th>\n",
       "      <th>and</th>\n",
       "      <th>are</th>\n",
       "      <th>arts</th>\n",
       "      <th>at</th>\n",
       "      <th>becomes</th>\n",
       "      <th>between</th>\n",
       "      <th>both</th>\n",
       "      <th>brained</th>\n",
       "      <th>data</th>\n",
       "      <th>...</th>\n",
       "      <th>language</th>\n",
       "      <th>left</th>\n",
       "      <th>natural</th>\n",
       "      <th>of</th>\n",
       "      <th>overlap</th>\n",
       "      <th>part</th>\n",
       "      <th>processing</th>\n",
       "      <th>right</th>\n",
       "      <th>science</th>\n",
       "      <th>time</th>\n",
       "    </tr>\n",
       "  </thead>\n",
       "  <tbody>\n",
       "    <tr>\n",
       "      <th>0</th>\n",
       "      <td>0.403328</td>\n",
       "      <td>0.257439</td>\n",
       "      <td>0.000000</td>\n",
       "      <td>0.257439</td>\n",
       "      <td>0.000000</td>\n",
       "      <td>0.000000</td>\n",
       "      <td>0.403328</td>\n",
       "      <td>0.000000</td>\n",
       "      <td>0.000000</td>\n",
       "      <td>0.317989</td>\n",
       "      <td>...</td>\n",
       "      <td>0.000000</td>\n",
       "      <td>0.000000</td>\n",
       "      <td>0.000000</td>\n",
       "      <td>0.000000</td>\n",
       "      <td>0.403328</td>\n",
       "      <td>0.000000</td>\n",
       "      <td>0.000000</td>\n",
       "      <td>0.000000</td>\n",
       "      <td>0.420947</td>\n",
       "      <td>0.000000</td>\n",
       "    </tr>\n",
       "    <tr>\n",
       "      <th>1</th>\n",
       "      <td>0.000000</td>\n",
       "      <td>0.159139</td>\n",
       "      <td>0.498644</td>\n",
       "      <td>0.159139</td>\n",
       "      <td>0.000000</td>\n",
       "      <td>0.000000</td>\n",
       "      <td>0.000000</td>\n",
       "      <td>0.000000</td>\n",
       "      <td>0.498644</td>\n",
       "      <td>0.000000</td>\n",
       "      <td>...</td>\n",
       "      <td>0.000000</td>\n",
       "      <td>0.249322</td>\n",
       "      <td>0.000000</td>\n",
       "      <td>0.000000</td>\n",
       "      <td>0.000000</td>\n",
       "      <td>0.000000</td>\n",
       "      <td>0.000000</td>\n",
       "      <td>0.249322</td>\n",
       "      <td>0.130107</td>\n",
       "      <td>0.000000</td>\n",
       "    </tr>\n",
       "    <tr>\n",
       "      <th>2</th>\n",
       "      <td>0.000000</td>\n",
       "      <td>0.224449</td>\n",
       "      <td>0.000000</td>\n",
       "      <td>0.224449</td>\n",
       "      <td>0.351643</td>\n",
       "      <td>0.351643</td>\n",
       "      <td>0.000000</td>\n",
       "      <td>0.351643</td>\n",
       "      <td>0.000000</td>\n",
       "      <td>0.000000</td>\n",
       "      <td>...</td>\n",
       "      <td>0.000000</td>\n",
       "      <td>0.000000</td>\n",
       "      <td>0.000000</td>\n",
       "      <td>0.000000</td>\n",
       "      <td>0.000000</td>\n",
       "      <td>0.000000</td>\n",
       "      <td>0.000000</td>\n",
       "      <td>0.000000</td>\n",
       "      <td>0.183502</td>\n",
       "      <td>0.351643</td>\n",
       "    </tr>\n",
       "    <tr>\n",
       "      <th>3</th>\n",
       "      <td>0.000000</td>\n",
       "      <td>0.000000</td>\n",
       "      <td>0.000000</td>\n",
       "      <td>0.000000</td>\n",
       "      <td>0.000000</td>\n",
       "      <td>0.000000</td>\n",
       "      <td>0.000000</td>\n",
       "      <td>0.000000</td>\n",
       "      <td>0.000000</td>\n",
       "      <td>0.308872</td>\n",
       "      <td>...</td>\n",
       "      <td>0.391765</td>\n",
       "      <td>0.000000</td>\n",
       "      <td>0.391765</td>\n",
       "      <td>0.391765</td>\n",
       "      <td>0.000000</td>\n",
       "      <td>0.391765</td>\n",
       "      <td>0.391765</td>\n",
       "      <td>0.000000</td>\n",
       "      <td>0.204439</td>\n",
       "      <td>0.000000</td>\n",
       "    </tr>\n",
       "  </tbody>\n",
       "</table>\n",
       "<p>4 rows × 26 columns</p>\n",
       "</div>"
      ],
      "text/plain": [
       "         an       and       are      arts        at   becomes   between  \\\n",
       "0  0.403328  0.257439  0.000000  0.257439  0.000000  0.000000  0.403328   \n",
       "1  0.000000  0.159139  0.498644  0.159139  0.000000  0.000000  0.000000   \n",
       "2  0.000000  0.224449  0.000000  0.224449  0.351643  0.351643  0.000000   \n",
       "3  0.000000  0.000000  0.000000  0.000000  0.000000  0.000000  0.000000   \n",
       "\n",
       "       both   brained      data  ...  language      left   natural        of  \\\n",
       "0  0.000000  0.000000  0.317989  ...  0.000000  0.000000  0.000000  0.000000   \n",
       "1  0.000000  0.498644  0.000000  ...  0.000000  0.249322  0.000000  0.000000   \n",
       "2  0.351643  0.000000  0.000000  ...  0.000000  0.000000  0.000000  0.000000   \n",
       "3  0.000000  0.000000  0.308872  ...  0.391765  0.000000  0.391765  0.391765   \n",
       "\n",
       "    overlap      part  processing     right   science      time  \n",
       "0  0.403328  0.000000    0.000000  0.000000  0.420947  0.000000  \n",
       "1  0.000000  0.000000    0.000000  0.249322  0.130107  0.000000  \n",
       "2  0.000000  0.000000    0.000000  0.000000  0.183502  0.351643  \n",
       "3  0.000000  0.391765    0.391765  0.000000  0.204439  0.000000  \n",
       "\n",
       "[4 rows x 26 columns]"
      ]
     },
     "execution_count": 14,
     "metadata": {},
     "output_type": "execute_result"
    }
   ],
   "source": [
    "# converting numpy array to dataframe\n",
    "df = pd.DataFrame(tfidf_matrix)\n",
    "df.columns = tfidf.get_feature_names()\n",
    "df"
   ]
  },
  {
   "cell_type": "markdown",
   "metadata": {},
   "source": [
    "### For 10 most frequent terms"
   ]
  },
  {
   "cell_type": "code",
   "execution_count": 15,
   "metadata": {},
   "outputs": [
    {
     "name": "stdout",
     "output_type": "stream",
     "text": [
      "(4, 10)\n"
     ]
    }
   ],
   "source": [
    "tfidf = TfidfVectorizer(max_features=10)\n",
    "tfidf_matrix = tfidf.fit_transform(corpus).todense()\n",
    "print(tfidf_matrix.shape)"
   ]
  },
  {
   "cell_type": "code",
   "execution_count": 16,
   "metadata": {},
   "outputs": [
    {
     "data": {
      "text/html": [
       "<div>\n",
       "<style scoped>\n",
       "    .dataframe tbody tr th:only-of-type {\n",
       "        vertical-align: middle;\n",
       "    }\n",
       "\n",
       "    .dataframe tbody tr th {\n",
       "        vertical-align: top;\n",
       "    }\n",
       "\n",
       "    .dataframe thead th {\n",
       "        text-align: right;\n",
       "    }\n",
       "</style>\n",
       "<table border=\"1\" class=\"dataframe\">\n",
       "  <thead>\n",
       "    <tr style=\"text-align: right;\">\n",
       "      <th></th>\n",
       "      <th>and</th>\n",
       "      <th>are</th>\n",
       "      <th>arts</th>\n",
       "      <th>brained</th>\n",
       "      <th>data</th>\n",
       "      <th>graduates</th>\n",
       "      <th>is</th>\n",
       "      <th>overlap</th>\n",
       "      <th>processing</th>\n",
       "      <th>science</th>\n",
       "    </tr>\n",
       "  </thead>\n",
       "  <tbody>\n",
       "    <tr>\n",
       "      <th>0</th>\n",
       "      <td>0.313426</td>\n",
       "      <td>0.00000</td>\n",
       "      <td>0.313426</td>\n",
       "      <td>0.00000</td>\n",
       "      <td>0.387143</td>\n",
       "      <td>0.00000</td>\n",
       "      <td>0.387143</td>\n",
       "      <td>0.491042</td>\n",
       "      <td>0.000000</td>\n",
       "      <td>0.512492</td>\n",
       "    </tr>\n",
       "    <tr>\n",
       "      <th>1</th>\n",
       "      <td>0.176439</td>\n",
       "      <td>0.55285</td>\n",
       "      <td>0.176439</td>\n",
       "      <td>0.55285</td>\n",
       "      <td>0.000000</td>\n",
       "      <td>0.55285</td>\n",
       "      <td>0.000000</td>\n",
       "      <td>0.000000</td>\n",
       "      <td>0.000000</td>\n",
       "      <td>0.144250</td>\n",
       "    </tr>\n",
       "    <tr>\n",
       "      <th>2</th>\n",
       "      <td>0.612172</td>\n",
       "      <td>0.00000</td>\n",
       "      <td>0.612172</td>\n",
       "      <td>0.00000</td>\n",
       "      <td>0.000000</td>\n",
       "      <td>0.00000</td>\n",
       "      <td>0.000000</td>\n",
       "      <td>0.000000</td>\n",
       "      <td>0.000000</td>\n",
       "      <td>0.500491</td>\n",
       "    </tr>\n",
       "    <tr>\n",
       "      <th>3</th>\n",
       "      <td>0.000000</td>\n",
       "      <td>0.00000</td>\n",
       "      <td>0.000000</td>\n",
       "      <td>0.00000</td>\n",
       "      <td>0.497096</td>\n",
       "      <td>0.00000</td>\n",
       "      <td>0.497096</td>\n",
       "      <td>0.000000</td>\n",
       "      <td>0.630504</td>\n",
       "      <td>0.329023</td>\n",
       "    </tr>\n",
       "  </tbody>\n",
       "</table>\n",
       "</div>"
      ],
      "text/plain": [
       "        and      are      arts  brained      data  graduates        is  \\\n",
       "0  0.313426  0.00000  0.313426  0.00000  0.387143    0.00000  0.387143   \n",
       "1  0.176439  0.55285  0.176439  0.55285  0.000000    0.55285  0.000000   \n",
       "2  0.612172  0.00000  0.612172  0.00000  0.000000    0.00000  0.000000   \n",
       "3  0.000000  0.00000  0.000000  0.00000  0.497096    0.00000  0.497096   \n",
       "\n",
       "    overlap  processing   science  \n",
       "0  0.491042    0.000000  0.512492  \n",
       "1  0.000000    0.000000  0.144250  \n",
       "2  0.000000    0.000000  0.500491  \n",
       "3  0.000000    0.630504  0.329023  "
      ]
     },
     "execution_count": 16,
     "metadata": {},
     "output_type": "execute_result"
    }
   ],
   "source": [
    "df = pd.DataFrame(tfidf_matrix)\n",
    "df.columns = tfidf.get_feature_names()\n",
    "df"
   ]
  },
  {
   "cell_type": "code",
   "execution_count": null,
   "metadata": {},
   "outputs": [],
   "source": []
  }
 ],
 "metadata": {
  "kernelspec": {
   "display_name": "Python 3",
   "language": "python",
   "name": "python3"
  },
  "language_info": {
   "codemirror_mode": {
    "name": "ipython",
    "version": 3
   },
   "file_extension": ".py",
   "mimetype": "text/x-python",
   "name": "python",
   "nbconvert_exporter": "python",
   "pygments_lexer": "ipython3",
   "version": "3.8.3"
  }
 },
 "nbformat": 4,
 "nbformat_minor": 4
}
