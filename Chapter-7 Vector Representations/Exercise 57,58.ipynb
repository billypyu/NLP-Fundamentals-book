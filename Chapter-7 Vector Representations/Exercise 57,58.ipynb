{
 "cells": [
  {
   "cell_type": "markdown",
   "metadata": {},
   "source": [
    "# 57,58"
   ]
  },
  {
   "cell_type": "markdown",
   "metadata": {},
   "source": [
    "# 57 Character one hot encoding - manual"
   ]
  },
  {
   "cell_type": "code",
   "execution_count": 1,
   "metadata": {},
   "outputs": [],
   "source": [
    "def onehot_word(word):\n",
    "    lookup = {v[1]: v[0] for v in enumerate(set(word))}\n",
    "\n",
    "    word_vector = []\n",
    "    for c in word:\n",
    "        one_hot_vector = [0] * len(lookup)\n",
    "        one_hot_vector[lookup[c]] = 1\n",
    "        word_vector.append(one_hot_vector)\n",
    "    return word_vector"
   ]
  },
  {
   "cell_type": "code",
   "execution_count": 2,
   "metadata": {},
   "outputs": [
    {
     "data": {
      "text/plain": [
       "[[0, 1, 0, 0], [0, 0, 0, 1], [1, 0, 0, 0], [0, 0, 1, 0]]"
      ]
     },
     "execution_count": 2,
     "metadata": {},
     "output_type": "execute_result"
    }
   ],
   "source": [
    "onehot_word('word')"
   ]
  },
  {
   "cell_type": "code",
   "execution_count": 3,
   "metadata": {},
   "outputs": [
    {
     "data": {
      "text/plain": [
       "[[0, 0, 1, 0], [1, 0, 0, 0], [0, 1, 0, 0], [0, 0, 0, 1]]"
      ]
     },
     "execution_count": 3,
     "metadata": {},
     "output_type": "execute_result"
    }
   ],
   "source": [
    "onehot_word('city')"
   ]
  },
  {
   "cell_type": "code",
   "execution_count": 5,
   "metadata": {},
   "outputs": [
    {
     "data": {
      "text/plain": [
       "[[0, 1, 0], [0, 0, 1], [0, 0, 1], [1, 0, 0]]"
      ]
     },
     "execution_count": 5,
     "metadata": {},
     "output_type": "execute_result"
    }
   ],
   "source": [
    "onehot_word('cook')"
   ]
  },
  {
   "cell_type": "markdown",
   "metadata": {},
   "source": [
    "# 58 Character Encoding using Keras"
   ]
  },
  {
   "cell_type": "code",
   "execution_count": 16,
   "metadata": {},
   "outputs": [],
   "source": [
    "from keras.preprocessing.text import Tokenizer\n",
    "import numpy as np"
   ]
  },
  {
   "cell_type": "code",
   "execution_count": 17,
   "metadata": {},
   "outputs": [],
   "source": [
    "sentence = 'The quick brown fox jumped over the lazy dog'"
   ]
  },
  {
   "cell_type": "code",
   "execution_count": 18,
   "metadata": {},
   "outputs": [],
   "source": [
    "char_tokenizer = Tokenizer(char_level=True)\n",
    "char_tokenizer.fit_on_texts(sentence)"
   ]
  },
  {
   "cell_type": "code",
   "execution_count": 20,
   "metadata": {},
   "outputs": [
    {
     "data": {
      "text/plain": [
       "[[4],\n",
       " [5],\n",
       " [2],\n",
       " [1],\n",
       " [9],\n",
       " [6],\n",
       " [10],\n",
       " [11],\n",
       " [12],\n",
       " [1],\n",
       " [13],\n",
       " [7],\n",
       " [3],\n",
       " [14],\n",
       " [15],\n",
       " [1],\n",
       " [16],\n",
       " [3],\n",
       " [17],\n",
       " [1],\n",
       " [18],\n",
       " [6],\n",
       " [19],\n",
       " [20],\n",
       " [2],\n",
       " [8],\n",
       " [1],\n",
       " [3],\n",
       " [21],\n",
       " [2],\n",
       " [7],\n",
       " [1],\n",
       " [4],\n",
       " [5],\n",
       " [2],\n",
       " [1],\n",
       " [22],\n",
       " [23],\n",
       " [24],\n",
       " [25],\n",
       " [1],\n",
       " [8],\n",
       " [3],\n",
       " [26]]"
      ]
     },
     "execution_count": 20,
     "metadata": {},
     "output_type": "execute_result"
    }
   ],
   "source": [
    "char_tokenizer.texts_to_sequences(sentence)"
   ]
  },
  {
   "cell_type": "code",
   "execution_count": 22,
   "metadata": {},
   "outputs": [
    {
     "name": "stdout",
     "output_type": "stream",
     "text": [
      "44\n",
      "44\n"
     ]
    }
   ],
   "source": [
    "print(len(sentence))\n",
    "print(len(char_tokenizer.texts_to_sequences(sentence)))"
   ]
  },
  {
   "cell_type": "code",
   "execution_count": 23,
   "metadata": {},
   "outputs": [
    {
     "name": "stdout",
     "output_type": "stream",
     "text": [
      "<class 'numpy.ndarray'>\n"
     ]
    },
    {
     "data": {
      "text/plain": [
       "(44, 27)"
      ]
     },
     "execution_count": 23,
     "metadata": {},
     "output_type": "execute_result"
    }
   ],
   "source": [
    "matrix = char_tokenizer.texts_to_matrix(sentence)\n",
    "print(type(matrix))\n",
    "matrix.shape"
   ]
  },
  {
   "cell_type": "code",
   "execution_count": 25,
   "metadata": {},
   "outputs": [
    {
     "data": {
      "text/plain": [
       "'char_vectors has shape (44, 27) because there are 44 characters and there are 26 letters of the alphabet plus space'"
      ]
     },
     "execution_count": 25,
     "metadata": {},
     "output_type": "execute_result"
    }
   ],
   "source": [
    "'char_vectors has shape {} because there are {} characters and there are 26 letters of the alphabet plus space'.format(matrix.shape, len(sentence))"
   ]
  },
  {
   "cell_type": "code",
   "execution_count": 26,
   "metadata": {},
   "outputs": [
    {
     "data": {
      "text/plain": [
       "{1: ' ',\n",
       " 2: 'e',\n",
       " 3: 'o',\n",
       " 4: 't',\n",
       " 5: 'h',\n",
       " 6: 'u',\n",
       " 7: 'r',\n",
       " 8: 'd',\n",
       " 9: 'q',\n",
       " 10: 'i',\n",
       " 11: 'c',\n",
       " 12: 'k',\n",
       " 13: 'b',\n",
       " 14: 'w',\n",
       " 15: 'n',\n",
       " 16: 'f',\n",
       " 17: 'x',\n",
       " 18: 'j',\n",
       " 19: 'm',\n",
       " 20: 'p',\n",
       " 21: 'v',\n",
       " 22: 'l',\n",
       " 23: 'a',\n",
       " 24: 'z',\n",
       " 25: 'y',\n",
       " 26: 'g'}"
      ]
     },
     "execution_count": 26,
     "metadata": {},
     "output_type": "execute_result"
    }
   ],
   "source": [
    "char_tokenizer.index_word"
   ]
  },
  {
   "cell_type": "code",
   "execution_count": 28,
   "metadata": {},
   "outputs": [
    {
     "data": {
      "text/plain": [
       "{' ': 1,\n",
       " 'e': 2,\n",
       " 'o': 3,\n",
       " 't': 4,\n",
       " 'h': 5,\n",
       " 'u': 6,\n",
       " 'r': 7,\n",
       " 'd': 8,\n",
       " 'q': 9,\n",
       " 'i': 10,\n",
       " 'c': 11,\n",
       " 'k': 12,\n",
       " 'b': 13,\n",
       " 'w': 14,\n",
       " 'n': 15,\n",
       " 'f': 16,\n",
       " 'x': 17,\n",
       " 'j': 18,\n",
       " 'm': 19,\n",
       " 'p': 20,\n",
       " 'v': 21,\n",
       " 'l': 22,\n",
       " 'a': 23,\n",
       " 'z': 24,\n",
       " 'y': 25,\n",
       " 'g': 26}"
      ]
     },
     "execution_count": 28,
     "metadata": {},
     "output_type": "execute_result"
    }
   ],
   "source": [
    "char_tokenizer.word_index"
   ]
  },
  {
   "cell_type": "code",
   "execution_count": null,
   "metadata": {},
   "outputs": [],
   "source": []
  }
 ],
 "metadata": {
  "kernelspec": {
   "display_name": "Python 3",
   "language": "python",
   "name": "python3"
  },
  "language_info": {
   "codemirror_mode": {
    "name": "ipython",
    "version": 3
   },
   "file_extension": ".py",
   "mimetype": "text/x-python",
   "name": "python",
   "nbconvert_exporter": "python",
   "pygments_lexer": "ipython3",
   "version": "3.8.3"
  }
 },
 "nbformat": 4,
 "nbformat_minor": 4
}
