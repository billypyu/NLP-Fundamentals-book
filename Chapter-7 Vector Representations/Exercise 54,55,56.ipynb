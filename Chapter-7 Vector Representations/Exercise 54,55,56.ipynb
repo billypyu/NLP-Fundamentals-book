{
 "cells": [
  {
   "cell_type": "markdown",
   "metadata": {},
   "source": [
    "# 54 Character level encoding"
   ]
  },
  {
   "cell_type": "code",
   "execution_count": 1,
   "metadata": {},
   "outputs": [
    {
     "data": {
      "text/plain": [
       "(97, 98)"
      ]
     },
     "execution_count": 1,
     "metadata": {},
     "output_type": "execute_result"
    }
   ],
   "source": [
    "ord('a'), ord('b')"
   ]
  },
  {
   "cell_type": "code",
   "execution_count": 2,
   "metadata": {},
   "outputs": [
    {
     "data": {
      "text/plain": [
       "(65, 66)"
      ]
     },
     "execution_count": 2,
     "metadata": {},
     "output_type": "execute_result"
    }
   ],
   "source": [
    "ord('A'), ord('B')"
   ]
  },
  {
   "cell_type": "code",
   "execution_count": 3,
   "metadata": {},
   "outputs": [],
   "source": [
    "def to_vector_ascii(text):\n",
    "    return [ord(ch) for ch in text]"
   ]
  },
  {
   "cell_type": "code",
   "execution_count": 4,
   "metadata": {},
   "outputs": [
    {
     "name": "stdout",
     "output_type": "stream",
     "text": [
      "[109, 121, 32, 110, 97, 109, 101, 32, 105, 115, 32, 104, 97, 114, 100, 105, 107]\n",
      "\n"
     ]
    }
   ],
   "source": [
    "print(to_vector_ascii('my name is hardik'))\n",
    "print()"
   ]
  },
  {
   "cell_type": "code",
   "execution_count": 5,
   "metadata": {},
   "outputs": [
    {
     "name": "stdout",
     "output_type": "stream",
     "text": [
      "[113, 117, 105, 99, 107, 32, 98, 114, 111, 119, 110, 32, 102, 111, 120]\n"
     ]
    }
   ],
   "source": [
    "print(to_vector_ascii('quick brown fox'))"
   ]
  },
  {
   "cell_type": "markdown",
   "metadata": {},
   "source": [
    "# Character level encoding with the help of numpy array"
   ]
  },
  {
   "cell_type": "code",
   "execution_count": 6,
   "metadata": {},
   "outputs": [],
   "source": [
    "import numpy as np\n",
    "def to_vector_ascii(text):\n",
    "    return np.array([ord(ch) for ch in text])"
   ]
  },
  {
   "cell_type": "code",
   "execution_count": 13,
   "metadata": {},
   "outputs": [
    {
     "data": {
      "text/plain": [
       "array([ 73,  32, 108, 111, 118, 101,  32, 109, 121,  32, 105, 110, 100,\n",
       "       105,  97])"
      ]
     },
     "execution_count": 13,
     "metadata": {},
     "output_type": "execute_result"
    }
   ],
   "source": [
    "my_vector = to_vector_ascii('I love my india')\n",
    "my_vector"
   ]
  },
  {
   "cell_type": "code",
   "execution_count": 14,
   "metadata": {},
   "outputs": [
    {
     "data": {
      "text/plain": [
       "(15,)"
      ]
     },
     "execution_count": 14,
     "metadata": {},
     "output_type": "execute_result"
    }
   ],
   "source": [
    "my_vector.shape"
   ]
  },
  {
   "cell_type": "code",
   "execution_count": 18,
   "metadata": {},
   "outputs": [],
   "source": [
    "my_vector = my_vector.reshape(15,1)"
   ]
  },
  {
   "cell_type": "code",
   "execution_count": 19,
   "metadata": {},
   "outputs": [
    {
     "data": {
      "text/plain": [
       "array([[ 73],\n",
       "       [ 32],\n",
       "       [108],\n",
       "       [111],\n",
       "       [118],\n",
       "       [101],\n",
       "       [ 32],\n",
       "       [109],\n",
       "       [121],\n",
       "       [ 32],\n",
       "       [105],\n",
       "       [110],\n",
       "       [100],\n",
       "       [105],\n",
       "       [ 97]])"
      ]
     },
     "execution_count": 19,
     "metadata": {},
     "output_type": "execute_result"
    }
   ],
   "source": [
    "my_vector"
   ]
  },
  {
   "cell_type": "code",
   "execution_count": 20,
   "metadata": {},
   "outputs": [
    {
     "data": {
      "text/plain": [
       "(15, 1)"
      ]
     },
     "execution_count": 20,
     "metadata": {},
     "output_type": "execute_result"
    }
   ],
   "source": [
    "my_vector.shape"
   ]
  },
  {
   "cell_type": "markdown",
   "metadata": {},
   "source": [
    "# 56"
   ]
  },
  {
   "cell_type": "code",
   "execution_count": 21,
   "metadata": {},
   "outputs": [
    {
     "data": {
      "text/plain": [
       "OrderedDict([('T', 1),\n",
       "             ('h', 2),\n",
       "             ('e', 3),\n",
       "             (' ', 4),\n",
       "             ('w', 5),\n",
       "             ('a', 6),\n",
       "             ('t', 7),\n",
       "             ('r', 8),\n",
       "             ('s', 9),\n",
       "             ('i', 10),\n",
       "             ('c', 11),\n",
       "             ('o', 12),\n",
       "             ('u', 13),\n",
       "             ('l', 14),\n",
       "             ('d', 15),\n",
       "             ('b', 16)])"
      ]
     },
     "execution_count": 21,
     "metadata": {},
     "output_type": "execute_result"
    }
   ],
   "source": [
    "from collections import OrderedDict\n",
    "\n",
    "def positional_encode_chars(text):\n",
    "    char_to_index = OrderedDict()\n",
    "    index = 1\n",
    "    for character in text:\n",
    "        if character not in char_to_index:\n",
    "            char_to_index[character] = index\n",
    "            index +=1\n",
    "    return char_to_index\n",
    "            \n",
    "positional_encode_chars('The water was as wet as it could be')"
   ]
  },
  {
   "cell_type": "code",
   "execution_count": null,
   "metadata": {},
   "outputs": [],
   "source": []
  }
 ],
 "metadata": {
  "kernelspec": {
   "display_name": "Python 3",
   "language": "python",
   "name": "python3"
  },
  "language_info": {
   "codemirror_mode": {
    "name": "ipython",
    "version": 3
   },
   "file_extension": ".py",
   "mimetype": "text/x-python",
   "name": "python",
   "nbconvert_exporter": "python",
   "pygments_lexer": "ipython3",
   "version": "3.8.3"
  }
 },
 "nbformat": 4,
 "nbformat_minor": 4
}
