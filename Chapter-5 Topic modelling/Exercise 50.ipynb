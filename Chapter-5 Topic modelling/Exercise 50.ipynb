{
 "cells": [
  {
   "cell_type": "markdown",
   "metadata": {},
   "source": [
    "# Topic Fingerprinting"
   ]
  },
  {
   "cell_type": "code",
   "execution_count": 1,
   "metadata": {},
   "outputs": [],
   "source": [
    "import pandas as pd\n",
    "\n",
    "pd.set_option('display.max_colwidth', 800)"
   ]
  },
  {
   "cell_type": "code",
   "execution_count": 3,
   "metadata": {},
   "outputs": [],
   "source": [
    "OPEN_DATA_URL = 'data/canada-open-data/inventory.csv'\n",
    "COLUMNS = ['title_en', 'description_en','date_released']\n",
    "catalog = pd.read_csv(OPEN_DATA_URL, usecols=COLUMNS)\n",
    "catalog = catalog.dropna(subset=['description_en'])"
   ]
  },
  {
   "cell_type": "code",
   "execution_count": 4,
   "metadata": {},
   "outputs": [
    {
     "data": {
      "text/html": [
       "<div>\n",
       "<style scoped>\n",
       "    .dataframe tbody tr th:only-of-type {\n",
       "        vertical-align: middle;\n",
       "    }\n",
       "\n",
       "    .dataframe tbody tr th {\n",
       "        vertical-align: top;\n",
       "    }\n",
       "\n",
       "    .dataframe thead th {\n",
       "        text-align: right;\n",
       "    }\n",
       "</style>\n",
       "<table border=\"1\" class=\"dataframe\">\n",
       "  <thead>\n",
       "    <tr style=\"text-align: right;\">\n",
       "      <th></th>\n",
       "      <th>title_en</th>\n",
       "      <th>description_en</th>\n",
       "      <th>date_released</th>\n",
       "    </tr>\n",
       "  </thead>\n",
       "  <tbody>\n",
       "    <tr>\n",
       "      <th>0</th>\n",
       "      <td>The AAFC Productivity Account for Canadian Agriculture</td>\n",
       "      <td>The AAFC Productivity Account for Canadian agriculture is an annual time-series database, covering the years 1961-2011, that is comprised of price index and constant dollar implicit quantity series for gross output and input aggregates. The data are defined at the national level only – i.e. for the whole of Canada. These data are used to estimate a total factor productivity (TFP) index for Canadian agriculture, which is the ratio of total gross output to total input, where both output and input are constant dollar implicit quantities. Average growth in the TFP index, referred to as TFP growth, can be estimated using a variety of methods; the growth rate reported in AAFC publications is estimated using OLS.\\n\\nFurther documentation provided in AAFC_PACA.odt</td>\n",
       "      <td>2018-08-10</td>\n",
       "    </tr>\n",
       "    <tr>\n",
       "      <th>1</th>\n",
       "      <td>Swift Current Water Chemistry - Long Term Tillage Study - 1962-2011</td>\n",
       "      <td>The Swift current water quantity and quality is an annual time-series database covering the period of 1962-2011. This database contains datasets for annual runoff volume, peak flow rates, water quality attributes, snow water equivalent and soil moisture from an edge of field study conducted at Swift Current, SK.</td>\n",
       "      <td>2018-11-23</td>\n",
       "    </tr>\n",
       "    <tr>\n",
       "      <th>2</th>\n",
       "      <td>Minor Use Pesticides Program Project Status by Crop</td>\n",
       "      <td>The Pest Management Centre’s (PMC) Minor Use Pesticides Program is a joint initiative between Agriculture and Agri-Food Canada and Health Canada’s Pest Management Regulatory Agency (PMRA) to improve the availability of reduced-risk products to agricultural producers and improve the access to a broad range of minor use pesticides. The PMC reviews the data resulting from field trials and laboratory analyses, and prepares a submission to PMRA to support the registration of the minor use pesticide. Upon receiving a finalized regulatory submission from PMC, PMRA reviews it and decides whether or not to accept the pesticide for use in Canada.\\n\\nThis is a complete list of PMC’s projects with their statuses. For those projects with the status D.3.2 Review Complete, please check with the pesti...</td>\n",
       "      <td>2018-12-14</td>\n",
       "    </tr>\n",
       "    <tr>\n",
       "      <th>3</th>\n",
       "      <td>Minor Use Pesticides Program Submission Status by Fiscal Year</td>\n",
       "      <td>The Pest Management Centre Minor Use Pesticides Program is a joint initiative between Agriculture and Agri-Food Canada and Health Canada’s Pest Management Regulatory Agency (PMRA) to improve the availability of reduced-risk products to agricultural producers and improve the access to a broad range of minor use pesticides. The PMC reviews the data resulting from field trials and laboratory analyses, and prepares a submission to PMRA to support the registration of the minor use pesticide. Upon receiving a finalized regulatory submission from PMC, PMRA reviews it and decides whether or not to accept the pesticide for use in Canada.\\n\\nThis list of submissions to PMRA is the result of PMC’s work and is for information purposes only. To find out if the pesticide can be used, please check wi...</td>\n",
       "      <td>2018-12-14</td>\n",
       "    </tr>\n",
       "    <tr>\n",
       "      <th>4</th>\n",
       "      <td>Minor Use Pesticides Program Trial Statistics by Year by Discipline</td>\n",
       "      <td>The following table provides information pertaining to the minor use pesticide study and/or trial status. These studies/trials are managed by the Pest management Center of the AAFC. This table is updated monthly.</td>\n",
       "      <td>2018-12-14</td>\n",
       "    </tr>\n",
       "  </tbody>\n",
       "</table>\n",
       "</div>"
      ],
      "text/plain": [
       "                                                              title_en  \\\n",
       "0               The AAFC Productivity Account for Canadian Agriculture   \n",
       "1  Swift Current Water Chemistry - Long Term Tillage Study - 1962-2011   \n",
       "2                  Minor Use Pesticides Program Project Status by Crop   \n",
       "3        Minor Use Pesticides Program Submission Status by Fiscal Year   \n",
       "4  Minor Use Pesticides Program Trial Statistics by Year by Discipline   \n",
       "\n",
       "                                                                                                                                                                                                                                                                                                                                                                                                                                                                                                                                                                                                                                                                                                                                                                                                                    description_en  \\\n",
       "0                                   The AAFC Productivity Account for Canadian agriculture is an annual time-series database, covering the years 1961-2011, that is comprised of price index and constant dollar implicit quantity series for gross output and input aggregates. The data are defined at the national level only – i.e. for the whole of Canada. These data are used to estimate a total factor productivity (TFP) index for Canadian agriculture, which is the ratio of total gross output to total input, where both output and input are constant dollar implicit quantities. Average growth in the TFP index, referred to as TFP growth, can be estimated using a variety of methods; the growth rate reported in AAFC publications is estimated using OLS.\\n\\nFurther documentation provided in AAFC_PACA.odt   \n",
       "1                                                                                                                                                                                                                                                                                                                                                                                                                                                                                                       The Swift current water quantity and quality is an annual time-series database covering the period of 1962-2011. This database contains datasets for annual runoff volume, peak flow rates, water quality attributes, snow water equivalent and soil moisture from an edge of field study conducted at Swift Current, SK.    \n",
       "2  The Pest Management Centre’s (PMC) Minor Use Pesticides Program is a joint initiative between Agriculture and Agri-Food Canada and Health Canada’s Pest Management Regulatory Agency (PMRA) to improve the availability of reduced-risk products to agricultural producers and improve the access to a broad range of minor use pesticides. The PMC reviews the data resulting from field trials and laboratory analyses, and prepares a submission to PMRA to support the registration of the minor use pesticide. Upon receiving a finalized regulatory submission from PMC, PMRA reviews it and decides whether or not to accept the pesticide for use in Canada.\\n\\nThis is a complete list of PMC’s projects with their statuses. For those projects with the status D.3.2 Review Complete, please check with the pesti...   \n",
       "3  The Pest Management Centre Minor Use Pesticides Program is a joint initiative between Agriculture and Agri-Food Canada and Health Canada’s Pest Management Regulatory Agency (PMRA) to improve the availability of reduced-risk products to agricultural producers and improve the access to a broad range of minor use pesticides. The PMC reviews the data resulting from field trials and laboratory analyses, and prepares a submission to PMRA to support the registration of the minor use pesticide. Upon receiving a finalized regulatory submission from PMC, PMRA reviews it and decides whether or not to accept the pesticide for use in Canada.\\n\\nThis list of submissions to PMRA is the result of PMC’s work and is for information purposes only. To find out if the pesticide can be used, please check wi...   \n",
       "4                                                                                                                                                                                                                                                                                                                                                                                                                                                                                                                                                                                                             The following table provides information pertaining to the minor use pesticide study and/or trial status. These studies/trials are managed by the Pest management Center of the AAFC. This table is updated monthly.   \n",
       "\n",
       "  date_released  \n",
       "0    2018-08-10  \n",
       "1    2018-11-23  \n",
       "2    2018-12-14  \n",
       "3    2018-12-14  \n",
       "4    2018-12-14  "
      ]
     },
     "execution_count": 4,
     "metadata": {},
     "output_type": "execute_result"
    }
   ],
   "source": [
    "catalog.head()"
   ]
  },
  {
   "cell_type": "code",
   "execution_count": 5,
   "metadata": {},
   "outputs": [
    {
     "data": {
      "text/plain": [
       "title_en                                                                                                                                                                                                                                                                                                                                                                                                                                                                                                                                                                                                                                                                                                                                                  The AAFC Productivity Account for Canadian Agriculture\n",
       "description_en    The AAFC Productivity Account for Canadian agriculture is an annual time-series database, covering the years 1961-2011, that is comprised of price index and constant dollar implicit quantity series for gross output and input aggregates. The data are defined at the national level only – i.e. for the whole of Canada. These data are used to estimate a total factor productivity (TFP) index for Canadian agriculture, which is the ratio of total gross output to total input, where both output and input are constant dollar implicit quantities. Average growth in the TFP index, referred to as TFP growth, can be estimated using a variety of methods; the growth rate reported in AAFC publications is estimated using OLS.\\n\\nFurther documentation provided in AAFC_PACA.odt\n",
       "date_released                                                                                                                                                                                                                                                                                                                                                                                                                                                                                                                                                                                                                                                                                                                                                                                         2018-08-10\n",
       "Name: 0, dtype: object"
      ]
     },
     "execution_count": 5,
     "metadata": {},
     "output_type": "execute_result"
    }
   ],
   "source": [
    "catalog.iloc[0]"
   ]
  },
  {
   "cell_type": "code",
   "execution_count": 7,
   "metadata": {},
   "outputs": [],
   "source": [
    "from gensim.parsing.preprocessing import remove_stopwords\n",
    "from gensim.utils import simple_preprocess\n",
    "\n",
    "def text_to_tokens(text):\n",
    "    text = text.lower()\n",
    "    text = remove_stopwords(text)\n",
    "    tokens = simple_preprocess(text)\n",
    "    return tokens"
   ]
  },
  {
   "cell_type": "code",
   "execution_count": 8,
   "metadata": {},
   "outputs": [
    {
     "data": {
      "text/plain": [
       "['hardik', 'email', 'hardikkamboj', 'gmail', 'com', 'number']"
      ]
     },
     "execution_count": 8,
     "metadata": {},
     "output_type": "execute_result"
    }
   ],
   "source": [
    "text_to_tokens('My name is Hardik, my email is hardikkamboj1@gmail.com and number is 7027556711')"
   ]
  },
  {
   "cell_type": "code",
   "execution_count": 9,
   "metadata": {},
   "outputs": [],
   "source": [
    "dataset_descriptions = catalog.description_en.apply(text_to_tokens)"
   ]
  },
  {
   "cell_type": "code",
   "execution_count": 10,
   "metadata": {},
   "outputs": [
    {
     "data": {
      "text/plain": [
       "10814"
      ]
     },
     "execution_count": 10,
     "metadata": {},
     "output_type": "execute_result"
    }
   ],
   "source": [
    "len(dataset_descriptions)"
   ]
  },
  {
   "cell_type": "code",
   "execution_count": 12,
   "metadata": {},
   "outputs": [
    {
     "name": "stdout",
     "output_type": "stream",
     "text": [
      "['aafc', 'productivity', 'account', 'canadian', 'agriculture', 'annual', 'time', 'series', 'database', 'covering', 'years', 'comprised', 'price', 'index', 'constant', 'dollar', 'implicit', 'quantity', 'series', 'gross', 'output', 'input', 'aggregates', 'data', 'defined', 'national', 'level', 'canada', 'data', 'estimate', 'total', 'factor', 'productivity', 'tfp', 'index', 'canadian', 'agriculture', 'ratio', 'total', 'gross', 'output', 'total', 'input', 'output', 'input', 'constant', 'dollar', 'implicit', 'quantities', 'average', 'growth', 'tfp', 'index', 'referred', 'tfp', 'growth', 'estimated', 'variety', 'methods', 'growth', 'rate', 'reported', 'aafc', 'publications', 'estimated', 'ols', 'documentation', 'provided', 'aafc_paca', 'odt']\n"
     ]
    }
   ],
   "source": [
    "print(dataset_descriptions[0])"
   ]
  },
  {
   "cell_type": "code",
   "execution_count": 13,
   "metadata": {},
   "outputs": [],
   "source": [
    "import gensim\n",
    "from gensim.models import LdaModel\n",
    "from gensim.parsing.preprocessing import preprocess_string\n",
    "\n",
    "dictionary = gensim.corpora.Dictionary(dataset_descriptions)\n",
    "corpus = [dictionary.doc2bow(text) for text in dataset_descriptions]"
   ]
  },
  {
   "cell_type": "markdown",
   "metadata": {},
   "source": [
    "# Dictionary"
   ]
  },
  {
   "cell_type": "code",
   "execution_count": 20,
   "metadata": {},
   "outputs": [
    {
     "name": "stdout",
     "output_type": "stream",
     "text": [
      "0 aafc\n",
      "1 aafc_paca\n",
      "2 account\n",
      "3 aggregates\n",
      "4 agriculture\n",
      "5 annual\n",
      "6 average\n",
      "7 canada\n",
      "8 canadian\n",
      "9 comprised\n",
      "10 constant\n",
      "11 covering\n",
      "12 data\n",
      "13 database\n",
      "14 defined\n",
      "15 documentation\n",
      "16 dollar\n",
      "17 estimate\n",
      "18 estimated\n",
      "19 factor\n"
     ]
    }
   ],
   "source": [
    "for i in range(0,20):\n",
    "    print(i,dictionary[i])"
   ]
  },
  {
   "cell_type": "code",
   "execution_count": 23,
   "metadata": {},
   "outputs": [
    {
     "name": "stdout",
     "output_type": "stream",
     "text": [
      "0  -  [(0, 2), (1, 1), (2, 1), (3, 1), (4, 2), (5, 1), (6, 1), (7, 1), (8, 2), (9, 1), (10, 2), (11, 1), (12, 2), (13, 1), (14, 1), (15, 1), (16, 2), (17, 1), (18, 2), (19, 1), (20, 2), (21, 3), (22, 2), (23, 3), (24, 3), (25, 1), (26, 1), (27, 1), (28, 1), (29, 1), (30, 3), (31, 1), (32, 2), (33, 1), (34, 1), (35, 1), (36, 1), (37, 1), (38, 1), (39, 1), (40, 1), (41, 2), (42, 3), (43, 1), (44, 3), (45, 1), (46, 1)]\n",
      "1  -  [(5, 2), (11, 1), (13, 2), (36, 1), (41, 1), (43, 1), (47, 1), (48, 1), (49, 1), (50, 2), (51, 1), (52, 1), (53, 1), (54, 1), (55, 1), (56, 1), (57, 1), (58, 1), (59, 2), (60, 1), (61, 1), (62, 1), (63, 1), (64, 1), (65, 1), (66, 2), (67, 1), (68, 3)]\n"
     ]
    }
   ],
   "source": [
    "for i in range(0,2):\n",
    "    print(i,' - ', corpus[i])"
   ]
  },
  {
   "cell_type": "code",
   "execution_count": 24,
   "metadata": {},
   "outputs": [
    {
     "data": {
      "text/plain": [
       "50"
      ]
     },
     "execution_count": 24,
     "metadata": {},
     "output_type": "execute_result"
    }
   ],
   "source": [
    "VECTOR_SIZE=50\n",
    "lda_model:LdaModel = LdaModel(corpus, \n",
    "                              num_topics=VECTOR_SIZE, \n",
    "                              passes=4)\n",
    "lda_model.num_topics"
   ]
  },
  {
   "cell_type": "code",
   "execution_count": 31,
   "metadata": {},
   "outputs": [
    {
     "data": {
      "text/plain": [
       "'The AAFC Productivity Account for Canadian agriculture is an annual time-series database, covering the years 1961-2011, that is comprised of price index and constant dollar implicit quantity series for gross output and input aggregates. The data are defined at the national level only – i.e. for the whole of Canada. These data are used to estimate a total factor productivity (TFP) index for Canadian agriculture, which is the ratio of total gross output to total input, where both output and input are constant dollar implicit quantities. Average growth in the TFP index, referred to as TFP growth, can be estimated using a variety of methods; the growth rate reported in AAFC publications is estimated using OLS.\\n\\nFurther documentation provided in AAFC_PACA.odt'"
      ]
     },
     "execution_count": 31,
     "metadata": {},
     "output_type": "execute_result"
    }
   ],
   "source": [
    "sample_doc = catalog.iloc[0][1]\n",
    "clean_sample = text_to_tokens(sample_doc)\n",
    "bow = dictionary.doc2bow(clean_sample)\n",
    "sample_doc"
   ]
  },
  {
   "cell_type": "code",
   "execution_count": 30,
   "metadata": {},
   "outputs": [
    {
     "name": "stdout",
     "output_type": "stream",
     "text": [
      "['aafc', 'productivity', 'account', 'canadian', 'agriculture', 'annual', 'time', 'series', 'database', 'covering', 'years', 'comprised', 'price', 'index', 'constant', 'dollar', 'implicit', 'quantity', 'series', 'gross', 'output', 'input', 'aggregates', 'data', 'defined', 'national', 'level', 'canada', 'data', 'estimate', 'total', 'factor', 'productivity', 'tfp', 'index', 'canadian', 'agriculture', 'ratio', 'total', 'gross', 'output', 'total', 'input', 'output', 'input', 'constant', 'dollar', 'implicit', 'quantities', 'average', 'growth', 'tfp', 'index', 'referred', 'tfp', 'growth', 'estimated', 'variety', 'methods', 'growth', 'rate', 'reported', 'aafc', 'publications', 'estimated', 'ols', 'documentation', 'provided', 'aafc_paca', 'odt']\n"
     ]
    }
   ],
   "source": [
    "print(clean_sample)"
   ]
  },
  {
   "cell_type": "code",
   "execution_count": 33,
   "metadata": {},
   "outputs": [
    {
     "name": "stdout",
     "output_type": "stream",
     "text": [
      "[(0, 2), (1, 1), (2, 1), (3, 1), (4, 2), (5, 1), (6, 1), (7, 1), (8, 2), (9, 1), (10, 2), (11, 1), (12, 2), (13, 1), (14, 1), (15, 1), (16, 2), (17, 1), (18, 2), (19, 1), (20, 2), (21, 3), (22, 2), (23, 3), (24, 3), (25, 1), (26, 1), (27, 1), (28, 1), (29, 1), (30, 3), (31, 1), (32, 2), (33, 1), (34, 1), (35, 1), (36, 1), (37, 1), (38, 1), (39, 1), (40, 1), (41, 2), (42, 3), (43, 1), (44, 3), (45, 1), (46, 1)]\n"
     ]
    }
   ],
   "source": [
    "print(bow)"
   ]
  },
  {
   "cell_type": "code",
   "execution_count": 35,
   "metadata": {},
   "outputs": [
    {
     "data": {
      "text/plain": [
       "[(0, 0.054900076),\n",
       " (1, 0.020726454),\n",
       " (5, 0.029385524),\n",
       " (8, 0.060372952),\n",
       " (10, 0.045898512),\n",
       " (15, 0.051209603),\n",
       " (18, 0.1695459),\n",
       " (19, 0.016950175),\n",
       " (20, 0.055183854),\n",
       " (22, 0.03369604),\n",
       " (37, 0.07543345),\n",
       " (44, 0.31176412),\n",
       " (47, 0.06420404)]"
      ]
     },
     "execution_count": 35,
     "metadata": {},
     "output_type": "execute_result"
    }
   ],
   "source": [
    "lda_model[bow]\n",
    "# tuples of (topic,relevance)"
   ]
  },
  {
   "cell_type": "code",
   "execution_count": 36,
   "metadata": {},
   "outputs": [
    {
     "data": {
      "text/html": [
       "<div>\n",
       "<style scoped>\n",
       "    .dataframe tbody tr th:only-of-type {\n",
       "        vertical-align: middle;\n",
       "    }\n",
       "\n",
       "    .dataframe tbody tr th {\n",
       "        vertical-align: top;\n",
       "    }\n",
       "\n",
       "    .dataframe thead th {\n",
       "        text-align: right;\n",
       "    }\n",
       "</style>\n",
       "<table border=\"1\" class=\"dataframe\">\n",
       "  <thead>\n",
       "    <tr style=\"text-align: right;\">\n",
       "      <th></th>\n",
       "      <th>Relevance</th>\n",
       "    </tr>\n",
       "    <tr>\n",
       "      <th>Topic</th>\n",
       "      <th></th>\n",
       "    </tr>\n",
       "  </thead>\n",
       "  <tbody>\n",
       "    <tr>\n",
       "      <th>0</th>\n",
       "      <td>0.054900</td>\n",
       "    </tr>\n",
       "    <tr>\n",
       "      <th>1</th>\n",
       "      <td>0.020726</td>\n",
       "    </tr>\n",
       "    <tr>\n",
       "      <th>5</th>\n",
       "      <td>0.029385</td>\n",
       "    </tr>\n",
       "    <tr>\n",
       "      <th>8</th>\n",
       "      <td>0.060373</td>\n",
       "    </tr>\n",
       "    <tr>\n",
       "      <th>10</th>\n",
       "      <td>0.045899</td>\n",
       "    </tr>\n",
       "    <tr>\n",
       "      <th>15</th>\n",
       "      <td>0.051209</td>\n",
       "    </tr>\n",
       "    <tr>\n",
       "      <th>18</th>\n",
       "      <td>0.169547</td>\n",
       "    </tr>\n",
       "    <tr>\n",
       "      <th>19</th>\n",
       "      <td>0.016950</td>\n",
       "    </tr>\n",
       "    <tr>\n",
       "      <th>20</th>\n",
       "      <td>0.055181</td>\n",
       "    </tr>\n",
       "    <tr>\n",
       "      <th>22</th>\n",
       "      <td>0.033699</td>\n",
       "    </tr>\n",
       "    <tr>\n",
       "      <th>37</th>\n",
       "      <td>0.075433</td>\n",
       "    </tr>\n",
       "    <tr>\n",
       "      <th>44</th>\n",
       "      <td>0.311764</td>\n",
       "    </tr>\n",
       "    <tr>\n",
       "      <th>47</th>\n",
       "      <td>0.064204</td>\n",
       "    </tr>\n",
       "  </tbody>\n",
       "</table>\n",
       "</div>"
      ],
      "text/plain": [
       "       Relevance\n",
       "Topic           \n",
       "0       0.054900\n",
       "1       0.020726\n",
       "5       0.029385\n",
       "8       0.060373\n",
       "10      0.045899\n",
       "15      0.051209\n",
       "18      0.169547\n",
       "19      0.016950\n",
       "20      0.055181\n",
       "22      0.033699\n",
       "37      0.075433\n",
       "44      0.311764\n",
       "47      0.064204"
      ]
     },
     "execution_count": 36,
     "metadata": {},
     "output_type": "execute_result"
    }
   ],
   "source": [
    "pd.DataFrame(lda_model[bow], \n",
    "             columns=['Topic','Relevance']).set_index('Topic')"
   ]
  },
  {
   "cell_type": "code",
   "execution_count": 37,
   "metadata": {},
   "outputs": [],
   "source": [
    "def topic_vector(topic_model:LdaModel, text:str):\n",
    "    processed_text = text_to_tokens(text) # clearning text\n",
    "    bag_of_words = dictionary.doc2bow(processed_text) # from text to bow\n",
    "    fingerprint = [0] * topic_model.num_topics # create a list of zeros of len = num of topics\n",
    "    for topic, prob in topic_model[bag_of_words]:\n",
    "        fingerprint[topic] = prob # add the vaule of topic to the required one\n",
    "    return fingerprint # vector representation of the text, size of vector = len of topics"
   ]
  },
  {
   "cell_type": "code",
   "execution_count": 38,
   "metadata": {},
   "outputs": [],
   "source": [
    "import matplotlib.pyplot as plt\n",
    "import matplotlib.style as style\n",
    "from IPython.display import display\n",
    "\n",
    "style.use('fivethirtyeight')\n",
    "\n",
    "VECTOR_SIZE=50\n",
    "%matplotlib inline\n",
    "\n",
    "def show_fingerprint(topic_model, text:str):\n",
    "    display(text)\n",
    "    vector = topic_vector(topic_model, text)\n",
    "    plt.figure(figsize=(14,2))\n",
    "    ax = plt.bar( range(len(vector)), \n",
    "                 vector, \n",
    "                 0.25, \n",
    "                 linewidth=1)\n",
    "    plt.ylim(top=0.4)\n",
    "    plt.tick_params(axis='both', \n",
    "                    which='both',\n",
    "                    left=False, \n",
    "                    bottom=False, \n",
    "                    top=False,\n",
    "                    labelleft=False, \n",
    "                    labelbottom=False)\n",
    "    plt.grid(False)"
   ]
  },
  {
   "cell_type": "code",
   "execution_count": 41,
   "metadata": {},
   "outputs": [
    {
     "data": {
      "text/plain": [
       "'The AAFC Productivity Account for Canadian agriculture is an annual time-series database, covering the years 1961-2011, that is comprised of price index and constant dollar implicit quantity series for gross output and input aggregates. The data are defined at the national level only – i.e. for the whole of Canada. These data are used to estimate a total factor productivity (TFP) index for Canadian agriculture, which is the ratio of total gross output to total input, where both output and input are constant dollar implicit quantities. Average growth in the TFP index, referred to as TFP growth, can be estimated using a variety of methods; the growth rate reported in AAFC publications is estimated using OLS.\\n\\nFurther documentation provided in AAFC_PACA.odt'"
      ]
     },
     "metadata": {},
     "output_type": "display_data"
    },
    {
     "data": {
      "image/png": "[encoded data removed]",
      "text/plain": [
       "<Figure size 1008x144 with 1 Axes>"
      ]
     },
     "metadata": {},
     "output_type": "display_data"
    }
   ],
   "source": [
    "show_fingerprint(lda_model,catalog.description_en[0])"
   ]
  },
  {
   "cell_type": "code",
   "execution_count": 42,
   "metadata": {},
   "outputs": [
    {
     "data": {
      "text/plain": [
       "\"The Pest Management Centre Minor Use Pesticides Program is a joint initiative between Agriculture and Agri-Food Canada and Health Canada’s Pest Management Regulatory Agency (PMRA) to improve the availability of reduced-risk products to agricultural producers and improve the access to a broad range of minor use pesticides. The PMC reviews the data resulting from field trials and laboratory analyses, and prepares a submission to PMRA to support the registration of the minor use pesticide. Upon receiving a finalized regulatory submission from PMC, PMRA reviews it and decides whether or not to accept the pesticide for use in Canada.\\n\\nThis list of submissions to PMRA is the result of PMC’s work and is for information purposes only. To find out if the pesticide can be used, please check with the pesticide manufacturer or visit PMRA's pesticide label database. \""
      ]
     },
     "metadata": {},
     "output_type": "display_data"
    },
    {
     "data": {
      "image/png": "[encoded data removed]",
      "text/plain": [
       "<Figure size 1008x144 with 1 Axes>"
      ]
     },
     "metadata": {},
     "output_type": "display_data"
    }
   ],
   "source": [
    "show_fingerprint(lda_model, catalog.description_en[3])"
   ]
  },
  {
   "cell_type": "code",
   "execution_count": 43,
   "metadata": {},
   "outputs": [
    {
     "data": {
      "text/plain": [
       "'The Agriculture and Agri-Food Canada’s (AAFC) Watersheds Project level series supplies a number of watershed and watershed related datasets for the Prairie Provinces.  The levels are greater or smaller assemblages of hydrometric areas, or the components defining them. \\nThe Project is organized by hydrometric gauging stations which are sourced from Environment Canada, the United States, and Canadian provinces. Additional stations were generated to address structural issues, like river confluences or lake inlets. Collectively, they are referred to as the gauging stations, or simply, the stations.\\nThe drainage area that each station monitors, between itself and one or more of its upstream neighbours, is called an ‘incremental gross drainage area’. \\nThe incremental gross drainage areas are collected into larger or smaller groupings based on size or defined interest to generate the various ‘levels ’of the series. They include:\\nBasins of varying size:\\n1.\\tMajor drainage systems (3): Arctic Ocean, Hudson Bay and Gulf of Mexico;\\n2.\\tMajor basins (23): associated with river or lake reaches;\\n3.\\tProject sub-basins (47): created specifically for the project;\\n4.\\tSub-basins (51): based on specific Environment Canada hydrometric gauging station locations;\\n5.\\tSub-sub-basins (311): based on specific Environment Canada hydrometric gauging station locations);\\nIncremental drainage areas:\\n6.\\tIncremental gross drainage areas: one per gauging station.\\nThe incremental gross drainage areas are further subdivided into portions that either contribute or do not contribute to drainage to an average runoff event. The portions that do contribute are called ‘effective drainage’ areas, while those that don’t are called ‘non-contributing’. These generate the following levels: \\n7.\\tIncremental effective drainage areas; and\\n8.\\tIncremental non-contributing areas.\\nTotal drainage areas:\\n9.\\tTotal gross drainage areas;\\n10.\\tTotal effective drainage areas; and\\n11.\\tTotal non-contributing areas; \\nAnd when combined for the entire project, yields the:\\n12.\\tEffective drainage area.\\nThe series also includes the components:\\n13.\\tThe gauging stations;\\n14.\\tThe collection of boundaries (lines) of the gross incremental drainage areas as well as the boundaries that separate contributing from non-contributing areas for an average runoff event; and\\n15.\\tA network of downstream-directed lines that connect the gauging stations.\\nAll linework is derived from large scale topographic data.\\nOne additional non-spatial dataset, a table of tallied values by gauging station, is provided:\\n16.\\tThe Project Gauging Station Table.\\nThe Project area, designed for the Prairie Provinces, covers all of Alberta, Saskatchewan and Manitoba, and those portions of British Columbia, Northwest Territories, Nunavut, Ontario, and the United States that are required to complete the trans-border sections of the watersheds.\\nSince 1975 the AAFC Watersheds Project has systematically collected and refined watershed boundaries for the Prairies. The result is the authoritative source for gross and effective drainage areas in the Prairie Provinces.  The initial 1:50,000 analog delineations were moved to their digital form in 1994. Since then, the delineations have increased in accuracy and extent, and the series levels have increased to 16 in number.'"
      ]
     },
     "metadata": {},
     "output_type": "display_data"
    },
    {
     "data": {
      "image/png": "[encoded data removed]",
      "text/plain": [
       "<Figure size 1008x144 with 1 Axes>"
      ]
     },
     "metadata": {},
     "output_type": "display_data"
    }
   ],
   "source": [
    "show_fingerprint(lda_model, catalog.description_en[10])"
   ]
  },
  {
   "cell_type": "code",
   "execution_count": 45,
   "metadata": {},
   "outputs": [
    {
     "name": "stdout",
     "output_type": "stream",
     "text": [
      "[0.07345764, 0.013393863, 0.020089902, 0, 0, 0.08117507, 0, 0, 0, 0, 0, 0, 0, 0, 0.03990278, 0, 0, 0, 0.04372164, 0, 0, 0, 0.019747056, 0, 0, 0.013427172, 0.010339144, 0.020143604, 0, 0, 0, 0.017509451, 0.075373, 0, 0.06605501, 0, 0.013970689, 0, 0, 0, 0, 0, 0, 0.07825997, 0, 0, 0, 0.34532997, 0, 0.022783713]\n"
     ]
    }
   ],
   "source": [
    "print(topic_vector(lda_model, catalog.description_en[10]))"
   ]
  },
  {
   "cell_type": "code",
   "execution_count": null,
   "metadata": {},
   "outputs": [],
   "source": []
  }
 ],
 "metadata": {
  "kernelspec": {
   "display_name": "Python 3",
   "language": "python",
   "name": "python3"
  },
  "language_info": {
   "codemirror_mode": {
    "name": "ipython",
    "version": 3
   },
   "file_extension": ".py",
   "mimetype": "text/x-python",
   "name": "python",
   "nbconvert_exporter": "python",
   "pygments_lexer": "ipython3",
   "version": "3.8.3"
  }
 },
 "nbformat": 4,
 "nbformat_minor": 4
}
